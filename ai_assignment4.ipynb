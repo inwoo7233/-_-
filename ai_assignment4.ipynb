{
  "nbformat": 4,
  "nbformat_minor": 0,
  "metadata": {
    "colab": {
      "name": "ai_assignment4.ipynb",
      "provenance": [],
      "collapsed_sections": [],
      "include_colab_link": true
    },
    "kernelspec": {
      "name": "python3",
      "display_name": "Python 3"
    }
  },
  "cells": [
    {
      "cell_type": "markdown",
      "metadata": {
        "id": "view-in-github",
        "colab_type": "text"
      },
      "source": [
        "<a href=\"https://colab.research.google.com/github/inwoo7233/AI_GITCT2020/blob/master/ai_assignment4.ipynb\" target=\"_parent\"><img src=\"https://colab.research.google.com/assets/colab-badge.svg\" alt=\"Open In Colab\"/></a>"
      ]
    },
    {
      "cell_type": "markdown",
      "metadata": {
        "id": "wxkL6PjwsI6L",
        "colab_type": "text"
      },
      "source": [
        "# 4주차 과제\n",
        "- 용어 정리\n",
        "- 딥러닝 강의 클론 코딩\n",
        "- 딥러닝 순전파 & 역전파 계산"
      ]
    },
    {
      "cell_type": "markdown",
      "metadata": {
        "id": "ixEtDe6_uGgI",
        "colab_type": "text"
      },
      "source": [
        "## 1. 용어 정리\n",
        "\n",
        "다음 제시된 단어의 정의(설명)를 정리하여 작성 하세요.\n",
        "\n",
        "* 2문장 이상 작성 해 주세요. \n",
        "* 주제(단어)와 크게 벗어나지만 않는다면 정답처리 됩니다.\n",
        "* 강의 뿐 아니라 기타 레퍼런스를 참고하여 작성하셔도 됩니다. (기타 레퍼런스를 참고하신 경우, 해당 레퍼런스를 정리하여 하단에 작성해 주세요.)\n"
      ]
    },
    {
      "cell_type": "markdown",
      "metadata": {
        "id": "0lfwat8eurKZ",
        "colab_type": "text"
      },
      "source": [
        "__(예시)__\n",
        "### 심층 신경망\n",
        ": 입력층과 출력층 사이에 여러 개의 은닉층들로 이뤄진 인공신경망이다. 심층 신경망은 일반적으로 인공신경망과 마찬가지로 복잡한 비선형 관계들을 모델링 할 수 있다. 신층신경망의 목적은 분류 및 수치예측을 하기 위함이고 이미지 트레이닝이나 문자인식과 같은 분야에서 매우 유용하게 쓰이고 있다."
      ]
    },
    {
      "cell_type": "markdown",
      "metadata": {
        "id": "Y8YJNKG_v65A",
        "colab_type": "text"
      },
      "source": [
        "### MCP 뉴런\n",
        ": 맥컬록과 윌터 피츠가 처음 발표한 간소화된 뇌의 뉴런 개념이다. 간단한 이진 출력의 논리회로로 신경세포를 설명했다. \n",
        "\n",
        "### 퍼셉트론\n",
        ": 로젠블렛이 MCP를 기반으로 처음 발표한 학습개념이다. 자동으로 최적의 가중치를 학습한다. 입력을 받아 이들을 기반으로 계산을 진행하고 출력을 반환한다. 하나의 뉴런은 가중치와 활성화 함수가 있어 이를 기반으로 구성된다. 활성화 함수는 뉴런의 출력 값을 정하는 함수로 결과값에 이를 취해 출력값을 얻게 된다. 가중치는 초기화를 통해 할당된 후 학습과정에서 일정한 값으로 수렴하게 된다.\n",
        "\n",
        "### 역전파\n",
        ": 출력값의 오차를 역으로 전파하는 방법이다. 출력층에서 기대출력값 대비 차이를 이전 층에 전달해 가중치와 편향을 조절하고, 이렇게 변화된 값을 기반으로 생긴 또 다른 오차를 기반으로 그 이전층의 가중치와 편향을 수정한다. 층이 여러개일 경우 이를 반복한다. 이러한 역전파의 문제는 '기울기 소멸'인데, 여러 층을 거칠수록 기울기가 점차 0에 수렴하게 되는 문제이다. 이를 해결하기 위해 다양한 활성화 함수가 제안되었다. 그 중 대표적인 것은 입력이 음수라면 0을 출력하지만 양수라면 값을 그대로 출력하는 ReLU라는 활성화함수이다. \n",
        "\n",
        "### 강화학습\n",
        ": 에이전트라는 존재가 환경과 상호작용하며, 일정 행동을 환경에 행하고 해당 환경의 상태에서 보상이라는 정보를 제공받는다. 이러한 보상이 최대화되는 방향으로 학습을 진행한다. 즉, 보상을 최대화하는 의사결정전략으로 순차적 행동을 알아나가는 방법이다. 알파고도 이러한 강화학습을 기반으로 설계되었다.\n",
        "\n",
        "### 과적합\n",
        ": 머신러닝에서 학습 데이터를 과하게 학습하는 것을 뜻한다. 학습데이터는 보통 실제 데이터의 부분집합인데, 이에 따라 학습 데이터에 대해서는 오차가 감소하지만 실제 데이터에 대해서는 오차가 증가할 수 있다. 예를 들어 노란 고양이 데이터를 통해 고양이의 특성을 학습하면 흰색 고양이나 검은 고양이를 고양이로 인식하지 못하는 경우가 그 예이다. 최적화 문제에서 매개변수를 늘렸을 때나 이진 결정 트리에서 자식의 개수를 무한히 늘리려할 때 발생할 수도 있다.\n",
        "\n",
        "### 차원의 저주\n",
        ": 데이터셋의 차원이 증가함에 따라 특성 공간이 점점 희소해지는 현상이다. 이러한 차원의 저주를 피하기 위해서는 올바른 변수를 선택하고 차원 축소 기법 등을 사용해야 한다.\n"
      ]
    },
    {
      "cell_type": "markdown",
      "metadata": {
        "id": "d-zfFXLCy6jD",
        "colab_type": "text"
      },
      "source": [
        "## 2. 딥러닝 강의 클론 코딩\n",
        "\n",
        "####__퍼셉트론 구조 구현하기__ \n",
        "딥러닝 강의(__딥러닝 원리[1] 3:15 ~ 5:15 부분__)를 보고 코드를 따라 치며 출력 결과를 만드세요.\n",
        " \n",
        "\n",
        "* 하나의 코드셀에 해당 코드를 한번에 다 적어서 실행해주세요 (__그렇게 하지 않을 경우, 아래 이미지와 같은 출력값이 나오지 않을 수 있습니다__)\n",
        "\n",
        "*__주의!__ 실제로 코딩해서 출력해보면 강의에 나온 출력 결과와 다르게 나옵니다!!\n"
      ]
    },
    {
      "cell_type": "code",
      "metadata": {
        "id": "aw_VCtLbkljI",
        "colab_type": "code",
        "colab": {
          "base_uri": "https://localhost:8080/",
          "height": 210
        },
        "outputId": "9ee767c6-cf3a-41c7-a85c-2641341baf32"
      },
      "source": [
        "import tensorflow as tf\n",
        "import math\n",
        "\n",
        "tf.compat.v1.set_random_seed(2020)\n",
        "x = 1 # 입력 값\n",
        "y = 0 # 원하는 값\n",
        "w = tf.random.normal([1],0,1) # 가중치 (정규분포의 무작위값)\n",
        "\n",
        "def sigmoid(x): # 활성화 함수\n",
        "    return 1 / (1 + math.exp(-x))\n",
        "\n",
        "output = sigmoid(x * w)\n",
        "print(output)\n",
        "\n",
        "for i in range(1000) :\n",
        "    output = sigmoid(x * w)\n",
        "    error = y - output\n",
        "    w = w + x * 0.1 * error # 0.1 : 학습률\n",
        "    if i % 100 == 99:\n",
        "        print(\"학습횟수:\",i,\"Error:\",error,\"예측결과:\",output)"
      ],
      "execution_count": 1,
      "outputs": [
        {
          "output_type": "stream",
          "text": [
            "0.47477188589261\n",
            "학습횟수: 99 Error: -0.10010598284299604 예측결과: 0.10010598284299604\n",
            "학습횟수: 199 Error: -0.05178399422833116 예측결과: 0.05178399422833116\n",
            "학습횟수: 299 Error: -0.034590451977903586 예측결과: 0.034590451977903586\n",
            "학습횟수: 399 Error: -0.02588962752851373 예측결과: 0.02588962752851373\n",
            "학습횟수: 499 Error: -0.020658699939863617 예측결과: 0.020658699939863617\n",
            "학습횟수: 599 Error: -0.017174253993457355 예측결과: 0.017174253993457355\n",
            "학습횟수: 699 Error: -0.014689506449480992 예측결과: 0.014689506449480992\n",
            "학습횟수: 799 Error: -0.012829497265431342 예측결과: 0.012829497265431342\n",
            "학습횟수: 899 Error: -0.011385568271837804 예측결과: 0.011385568271837804\n",
            "학습횟수: 999 Error: -0.010232493309882492 예측결과: 0.010232493309882492\n"
          ],
          "name": "stdout"
        }
      ]
    },
    {
      "cell_type": "markdown",
      "metadata": {
        "id": "wcc5mzI9oZ7r",
        "colab_type": "text"
      },
      "source": [
        "![대체 텍스트](https://www.notion.so/image/https%3A%2F%2Fs3-us-west-2.amazonaws.com%2Fsecure.notion-static.com%2F0cceeed0-0235-4b0f-af88-0b8c377d5b4b%2F_2020-06-09__9.35.23.png?table=block&id=88fd8912-9356-49a4-9fda-a1a63fe96ea9&width=2870&cache=v2)"
      ]
    },
    {
      "cell_type": "markdown",
      "metadata": {
        "id": "kr0HVRk8fOom",
        "colab_type": "text"
      },
      "source": [
        "## 3. 딥러닝 순전파 & 역전파 계산\n",
        "\n",
        "딥러닝 강의(__딥러닝 원리[2] 0:55 ~ 4:32 부분__)에 나오는 순전파 & 역전파 계산에 대한 문제 입니다.\n",
        "\n",
        "해당 영상과 다음 이미지를 참고하여 다음 2가지 물음에 답하세요.\n",
        "\n",
        "\n",
        "(1) 학습률이 0.2 일 경우 출력층의 노드값\n",
        "\n",
        "(2) 학습률이 0.1과 0.2 중 기대출력값이 지도데이터 \"3\"과 더 가까운 학습률은?"
      ]
    },
    {
      "cell_type": "markdown",
      "metadata": {
        "id": "CpwPFWhOUzww",
        "colab_type": "text"
      },
      "source": [
        "![대체 텍스트](https://www.notion.so/image/https%3A%2F%2Fs3-us-west-2.amazonaws.com%2Fsecure.notion-static.com%2Ff54dfd45-92ec-44ae-9616-6949d2484a45%2F_2020-06-10__5.22.03.png?table=block&id=ee05da89-3ceb-4ad9-a2d3-c9f68d24d1d9&width=3580&cache=v2)"
      ]
    },
    {
      "cell_type": "markdown",
      "metadata": {
        "id": "B2OVY7w5U3CI",
        "colab_type": "text"
      },
      "source": [
        "## (1) 학습률이 0.2 일 경우 출력층의 노드값 : 1.6\n",
        "## (2) 학습률이 0.1과 0.2 중 기대출력값이 지도데이터 \"3\"과 더 가까운 학습률은? : 0.1"
      ]
    }
  ]
}